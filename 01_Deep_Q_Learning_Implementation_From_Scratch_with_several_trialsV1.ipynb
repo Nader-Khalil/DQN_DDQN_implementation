{
  "cells": [
    {
      "cell_type": "markdown",
      "metadata": {
        "id": "view-in-github",
        "colab_type": "text"
      },
      "source": [
        "<a href=\"https://colab.research.google.com/github/Nader-Khalil/DQN_DDQN_implementation/blob/Nader_updates/01_Deep_Q_Learning_Implementation_From_Scratch_with_several_trialsV1.ipynb\" target=\"_parent\"><img src=\"https://colab.research.google.com/assets/colab-badge.svg\" alt=\"Open In Colab\"/></a>"
      ]
    },
    {
      "cell_type": "markdown",
      "source": [
        "\n",
        "# Team Members : \n",
        "- **Yassmina Abdo Ali**    >>  yassmenaabdo6@gmail.com  >>> GitHub Acc. :[Yassmina Abdo || Github ](https://github.com/yassmina-abdo)\n",
        "- **Maryam Mostafa Alsawaf**  >> maryam1998.mostafa@gmail.com >>> GitHub Acc. [Maryam Mostafa](https://github.com/Maryam-Mostafa)\n",
        "- **Nader Mohamed Khalil**  >> nader.mohamed.khalil@gmail.com  >>>GitHub Acc. [Maryam Mostafa](https://github.com/Nader-Khalil)\n"
      ],
      "metadata": {
        "id": "QAT1cVpmUDFF"
      }
    },
    {
      "cell_type": "markdown",
      "metadata": {
        "id": "UmB5f9h-FiDi"
      },
      "source": [
        "**Mount Drive**\n",
        "\n",
        "---\n",
        "\n"
      ]
    },
    {
      "cell_type": "code",
      "execution_count": null,
      "metadata": {
        "colab": {
          "base_uri": "https://localhost:8080/"
        },
        "id": "6CVKl8mekpbd",
        "outputId": "c759ee52-4e9c-43a7-e923-42dbc009c8ed"
      },
      "outputs": [
        {
          "name": "stdout",
          "output_type": "stream",
          "text": [
            "Mounted at /content/drive\n"
          ]
        }
      ],
      "source": [
        "from google.colab import drive\n",
        "drive.mount(\"/content/drive\", force_remount=True)"
      ]
    },
    {
      "cell_type": "markdown",
      "metadata": {
        "id": "5h1SAHIsiR3W"
      },
      "source": [
        "**Installing Dependencies**"
      ]
    },
    {
      "cell_type": "code",
      "execution_count": null,
      "metadata": {
        "colab": {
          "base_uri": "https://localhost:8080/"
        },
        "id": "VrGBVwH933qy",
        "outputId": "75cc97fa-ec97-429a-8f27-309ce8ca89c5"
      },
      "outputs": [
        {
          "name": "stdout",
          "output_type": "stream",
          "text": [
            "\u001b[?25l\r\u001b[K     |▎                               | 10 kB 21.8 MB/s eta 0:00:01\r\u001b[K     |▋                               | 20 kB 19.1 MB/s eta 0:00:01\r\u001b[K     |█                               | 30 kB 12.1 MB/s eta 0:00:01\r\u001b[K     |█▎                              | 40 kB 9.3 MB/s eta 0:00:01\r\u001b[K     |█▋                              | 51 kB 4.8 MB/s eta 0:00:01\r\u001b[K     |██                              | 61 kB 5.7 MB/s eta 0:00:01\r\u001b[K     |██▎                             | 71 kB 5.6 MB/s eta 0:00:01\r\u001b[K     |██▋                             | 81 kB 5.5 MB/s eta 0:00:01\r\u001b[K     |██▉                             | 92 kB 6.1 MB/s eta 0:00:01\r\u001b[K     |███▏                            | 102 kB 5.3 MB/s eta 0:00:01\r\u001b[K     |███▌                            | 112 kB 5.3 MB/s eta 0:00:01\r\u001b[K     |███▉                            | 122 kB 5.3 MB/s eta 0:00:01\r\u001b[K     |████▏                           | 133 kB 5.3 MB/s eta 0:00:01\r\u001b[K     |████▌                           | 143 kB 5.3 MB/s eta 0:00:01\r\u001b[K     |████▉                           | 153 kB 5.3 MB/s eta 0:00:01\r\u001b[K     |█████▏                          | 163 kB 5.3 MB/s eta 0:00:01\r\u001b[K     |█████▍                          | 174 kB 5.3 MB/s eta 0:00:01\r\u001b[K     |█████▊                          | 184 kB 5.3 MB/s eta 0:00:01\r\u001b[K     |██████                          | 194 kB 5.3 MB/s eta 0:00:01\r\u001b[K     |██████▍                         | 204 kB 5.3 MB/s eta 0:00:01\r\u001b[K     |██████▊                         | 215 kB 5.3 MB/s eta 0:00:01\r\u001b[K     |███████                         | 225 kB 5.3 MB/s eta 0:00:01\r\u001b[K     |███████▍                        | 235 kB 5.3 MB/s eta 0:00:01\r\u001b[K     |███████▊                        | 245 kB 5.3 MB/s eta 0:00:01\r\u001b[K     |████████                        | 256 kB 5.3 MB/s eta 0:00:01\r\u001b[K     |████████▎                       | 266 kB 5.3 MB/s eta 0:00:01\r\u001b[K     |████████▋                       | 276 kB 5.3 MB/s eta 0:00:01\r\u001b[K     |█████████                       | 286 kB 5.3 MB/s eta 0:00:01\r\u001b[K     |█████████▎                      | 296 kB 5.3 MB/s eta 0:00:01\r\u001b[K     |█████████▋                      | 307 kB 5.3 MB/s eta 0:00:01\r\u001b[K     |██████████                      | 317 kB 5.3 MB/s eta 0:00:01\r\u001b[K     |██████████▎                     | 327 kB 5.3 MB/s eta 0:00:01\r\u001b[K     |██████████▋                     | 337 kB 5.3 MB/s eta 0:00:01\r\u001b[K     |██████████▉                     | 348 kB 5.3 MB/s eta 0:00:01\r\u001b[K     |███████████▏                    | 358 kB 5.3 MB/s eta 0:00:01\r\u001b[K     |███████████▌                    | 368 kB 5.3 MB/s eta 0:00:01\r\u001b[K     |███████████▉                    | 378 kB 5.3 MB/s eta 0:00:01\r\u001b[K     |████████████▏                   | 389 kB 5.3 MB/s eta 0:00:01\r\u001b[K     |████████████▌                   | 399 kB 5.3 MB/s eta 0:00:01\r\u001b[K     |████████████▉                   | 409 kB 5.3 MB/s eta 0:00:01\r\u001b[K     |█████████████▏                  | 419 kB 5.3 MB/s eta 0:00:01\r\u001b[K     |█████████████▌                  | 430 kB 5.3 MB/s eta 0:00:01\r\u001b[K     |█████████████▊                  | 440 kB 5.3 MB/s eta 0:00:01\r\u001b[K     |██████████████                  | 450 kB 5.3 MB/s eta 0:00:01\r\u001b[K     |██████████████▍                 | 460 kB 5.3 MB/s eta 0:00:01\r\u001b[K     |██████████████▊                 | 471 kB 5.3 MB/s eta 0:00:01\r\u001b[K     |███████████████                 | 481 kB 5.3 MB/s eta 0:00:01\r\u001b[K     |███████████████▍                | 491 kB 5.3 MB/s eta 0:00:01\r\u001b[K     |███████████████▊                | 501 kB 5.3 MB/s eta 0:00:01\r\u001b[K     |████████████████                | 512 kB 5.3 MB/s eta 0:00:01\r\u001b[K     |████████████████▎               | 522 kB 5.3 MB/s eta 0:00:01\r\u001b[K     |████████████████▋               | 532 kB 5.3 MB/s eta 0:00:01\r\u001b[K     |█████████████████               | 542 kB 5.3 MB/s eta 0:00:01\r\u001b[K     |█████████████████▎              | 552 kB 5.3 MB/s eta 0:00:01\r\u001b[K     |█████████████████▋              | 563 kB 5.3 MB/s eta 0:00:01\r\u001b[K     |██████████████████              | 573 kB 5.3 MB/s eta 0:00:01\r\u001b[K     |██████████████████▎             | 583 kB 5.3 MB/s eta 0:00:01\r\u001b[K     |██████████████████▋             | 593 kB 5.3 MB/s eta 0:00:01\r\u001b[K     |███████████████████             | 604 kB 5.3 MB/s eta 0:00:01\r\u001b[K     |███████████████████▏            | 614 kB 5.3 MB/s eta 0:00:01\r\u001b[K     |███████████████████▌            | 624 kB 5.3 MB/s eta 0:00:01\r\u001b[K     |███████████████████▉            | 634 kB 5.3 MB/s eta 0:00:01\r\u001b[K     |████████████████████▏           | 645 kB 5.3 MB/s eta 0:00:01\r\u001b[K     |████████████████████▌           | 655 kB 5.3 MB/s eta 0:00:01\r\u001b[K     |████████████████████▉           | 665 kB 5.3 MB/s eta 0:00:01\r\u001b[K     |█████████████████████▏          | 675 kB 5.3 MB/s eta 0:00:01\r\u001b[K     |█████████████████████▌          | 686 kB 5.3 MB/s eta 0:00:01\r\u001b[K     |█████████████████████▊          | 696 kB 5.3 MB/s eta 0:00:01\r\u001b[K     |██████████████████████          | 706 kB 5.3 MB/s eta 0:00:01\r\u001b[K     |██████████████████████▍         | 716 kB 5.3 MB/s eta 0:00:01\r\u001b[K     |██████████████████████▊         | 727 kB 5.3 MB/s eta 0:00:01\r\u001b[K     |███████████████████████         | 737 kB 5.3 MB/s eta 0:00:01\r\u001b[K     |███████████████████████▍        | 747 kB 5.3 MB/s eta 0:00:01\r\u001b[K     |███████████████████████▊        | 757 kB 5.3 MB/s eta 0:00:01\r\u001b[K     |████████████████████████        | 768 kB 5.3 MB/s eta 0:00:01\r\u001b[K     |████████████████████████▍       | 778 kB 5.3 MB/s eta 0:00:01\r\u001b[K     |████████████████████████▋       | 788 kB 5.3 MB/s eta 0:00:01\r\u001b[K     |█████████████████████████       | 798 kB 5.3 MB/s eta 0:00:01\r\u001b[K     |█████████████████████████▎      | 808 kB 5.3 MB/s eta 0:00:01\r\u001b[K     |█████████████████████████▋      | 819 kB 5.3 MB/s eta 0:00:01\r\u001b[K     |██████████████████████████      | 829 kB 5.3 MB/s eta 0:00:01\r\u001b[K     |██████████████████████████▎     | 839 kB 5.3 MB/s eta 0:00:01\r\u001b[K     |██████████████████████████▋     | 849 kB 5.3 MB/s eta 0:00:01\r\u001b[K     |███████████████████████████     | 860 kB 5.3 MB/s eta 0:00:01\r\u001b[K     |███████████████████████████▏    | 870 kB 5.3 MB/s eta 0:00:01\r\u001b[K     |███████████████████████████▌    | 880 kB 5.3 MB/s eta 0:00:01\r\u001b[K     |███████████████████████████▉    | 890 kB 5.3 MB/s eta 0:00:01\r\u001b[K     |████████████████████████████▏   | 901 kB 5.3 MB/s eta 0:00:01\r\u001b[K     |████████████████████████████▌   | 911 kB 5.3 MB/s eta 0:00:01\r\u001b[K     |████████████████████████████▉   | 921 kB 5.3 MB/s eta 0:00:01\r\u001b[K     |█████████████████████████████▏  | 931 kB 5.3 MB/s eta 0:00:01\r\u001b[K     |█████████████████████████████▌  | 942 kB 5.3 MB/s eta 0:00:01\r\u001b[K     |█████████████████████████████▉  | 952 kB 5.3 MB/s eta 0:00:01\r\u001b[K     |██████████████████████████████  | 962 kB 5.3 MB/s eta 0:00:01\r\u001b[K     |██████████████████████████████▍ | 972 kB 5.3 MB/s eta 0:00:01\r\u001b[K     |██████████████████████████████▊ | 983 kB 5.3 MB/s eta 0:00:01\r\u001b[K     |███████████████████████████████ | 993 kB 5.3 MB/s eta 0:00:01\r\u001b[K     |███████████████████████████████▍| 1.0 MB 5.3 MB/s eta 0:00:01\r\u001b[K     |███████████████████████████████▊| 1.0 MB 5.3 MB/s eta 0:00:01\r\u001b[K     |████████████████████████████████| 1.0 MB 5.3 MB/s \n",
            "\u001b[?25h"
          ]
        }
      ],
      "source": [
        "# install gym\n",
        "!pip install gym --q"
      ]
    },
    {
      "cell_type": "code",
      "execution_count": null,
      "metadata": {
        "colab": {
          "base_uri": "https://localhost:8080/",
          "height": 1000
        },
        "id": "xhzNl5yUp-9b",
        "outputId": "40386072-6d76-4ef4-df12-d477c817e6bd"
      },
      "outputs": [
        {
          "name": "stdout",
          "output_type": "stream",
          "text": [
            "Reading package lists... Done\n",
            "Building dependency tree       \n",
            "Reading state information... Done\n",
            "The following package was automatically installed and is no longer required:\n",
            "  libnvidia-common-460\n",
            "Use 'apt autoremove' to remove it.\n",
            "The following additional packages will be installed:\n",
            "  libxxf86dga1\n",
            "Suggested packages:\n",
            "  mesa-utils\n",
            "The following NEW packages will be installed:\n",
            "  libxxf86dga1 x11-utils xvfb\n",
            "0 upgraded, 3 newly installed, 0 to remove and 49 not upgraded.\n",
            "Need to get 994 kB of archives.\n",
            "After this operation, 2,982 kB of additional disk space will be used.\n",
            "Get:1 http://archive.ubuntu.com/ubuntu bionic/main amd64 libxxf86dga1 amd64 2:1.1.4-1 [13.7 kB]\n",
            "Get:2 http://archive.ubuntu.com/ubuntu bionic/main amd64 x11-utils amd64 7.7+3build1 [196 kB]\n",
            "Get:3 http://archive.ubuntu.com/ubuntu bionic-updates/universe amd64 xvfb amd64 2:1.19.6-1ubuntu4.11 [785 kB]\n",
            "Fetched 994 kB in 0s (2,592 kB/s)\n",
            "Selecting previously unselected package libxxf86dga1:amd64.\n",
            "(Reading database ... 155673 files and directories currently installed.)\n",
            "Preparing to unpack .../libxxf86dga1_2%3a1.1.4-1_amd64.deb ...\n",
            "Unpacking libxxf86dga1:amd64 (2:1.1.4-1) ...\n",
            "Selecting previously unselected package x11-utils.\n",
            "Preparing to unpack .../x11-utils_7.7+3build1_amd64.deb ...\n",
            "Unpacking x11-utils (7.7+3build1) ...\n",
            "Selecting previously unselected package xvfb.\n",
            "Preparing to unpack .../xvfb_2%3a1.19.6-1ubuntu4.11_amd64.deb ...\n",
            "Unpacking xvfb (2:1.19.6-1ubuntu4.11) ...\n",
            "Setting up xvfb (2:1.19.6-1ubuntu4.11) ...\n",
            "Setting up libxxf86dga1:amd64 (2:1.1.4-1) ...\n",
            "Setting up x11-utils (7.7+3build1) ...\n",
            "Processing triggers for man-db (2.8.3-2ubuntu0.1) ...\n",
            "Processing triggers for libc-bin (2.27-3ubuntu1.3) ...\n",
            "Hit:1 http://archive.ubuntu.com/ubuntu bionic InRelease\n",
            "Get:2 http://archive.ubuntu.com/ubuntu bionic-updates InRelease [88.7 kB]\n",
            "Get:3 https://cloud.r-project.org/bin/linux/ubuntu bionic-cran40/ InRelease [3,626 B]\n",
            "Hit:4 https://developer.download.nvidia.com/compute/cuda/repos/ubuntu1804/x86_64  InRelease\n",
            "Get:5 http://security.ubuntu.com/ubuntu bionic-security InRelease [88.7 kB]\n",
            "Ign:6 https://developer.download.nvidia.com/compute/machine-learning/repos/ubuntu1804/x86_64  InRelease\n",
            "Hit:7 https://developer.download.nvidia.com/compute/machine-learning/repos/ubuntu1804/x86_64  Release\n",
            "Get:8 http://archive.ubuntu.com/ubuntu bionic-backports InRelease [74.6 kB]\n",
            "Get:9 http://ppa.launchpad.net/c2d4u.team/c2d4u4.0+/ubuntu bionic InRelease [15.9 kB]\n",
            "Get:10 https://cloud.r-project.org/bin/linux/ubuntu bionic-cran40/ Packages [87.8 kB]\n",
            "Hit:11 http://ppa.launchpad.net/cran/libgit2/ubuntu bionic InRelease\n",
            "Get:12 http://archive.ubuntu.com/ubuntu bionic-updates/main amd64 Packages [3,336 kB]\n",
            "Hit:14 http://ppa.launchpad.net/deadsnakes/ppa/ubuntu bionic InRelease\n",
            "Get:15 http://archive.ubuntu.com/ubuntu bionic-updates/universe amd64 Packages [2,306 kB]\n",
            "Hit:16 http://ppa.launchpad.net/graphics-drivers/ppa/ubuntu bionic InRelease\n",
            "Get:17 http://ppa.launchpad.net/c2d4u.team/c2d4u4.0+/ubuntu bionic/main amd64 Packages [1,063 kB]\n",
            "Get:18 http://security.ubuntu.com/ubuntu bionic-security/universe amd64 Packages [1,527 kB]\n",
            "Get:19 http://security.ubuntu.com/ubuntu bionic-security/main amd64 Packages [2,905 kB]\n",
            "Fetched 11.5 MB in 2s (4,635 kB/s)\n",
            "Reading package lists... Done\n",
            "Reading package lists... Done\n",
            "Building dependency tree       \n",
            "Reading state information... Done\n",
            "The following package was automatically installed and is no longer required:\n",
            "  libnvidia-common-460\n",
            "Use 'apt autoremove' to remove it.\n",
            "Suggested packages:\n",
            "  libgle3\n",
            "The following NEW packages will be installed:\n",
            "  python-opengl\n",
            "0 upgraded, 1 newly installed, 0 to remove and 55 not upgraded.\n",
            "Need to get 496 kB of archives.\n",
            "After this operation, 5,416 kB of additional disk space will be used.\n",
            "Get:1 http://archive.ubuntu.com/ubuntu bionic/universe amd64 python-opengl all 3.1.0+dfsg-1 [496 kB]\n",
            "Fetched 496 kB in 0s (1,698 kB/s)\n",
            "Selecting previously unselected package python-opengl.\n",
            "(Reading database ... 155734 files and directories currently installed.)\n",
            "Preparing to unpack .../python-opengl_3.1.0+dfsg-1_all.deb ...\n",
            "Unpacking python-opengl (3.1.0+dfsg-1) ...\n",
            "Setting up python-opengl (3.1.0+dfsg-1) ...\n",
            "Reading package lists... Done\n",
            "Building dependency tree       \n",
            "Reading state information... Done\n",
            "ffmpeg is already the newest version (7:3.4.11-0ubuntu0.1).\n",
            "The following package was automatically installed and is no longer required:\n",
            "  libnvidia-common-460\n",
            "Use 'apt autoremove' to remove it.\n",
            "0 upgraded, 0 newly installed, 0 to remove and 55 not upgraded.\n",
            "Looking in indexes: https://pypi.org/simple, https://us-python.pkg.dev/colab-wheels/public/simple/\n",
            "Requirement already satisfied: pyvirtualdisplay in /usr/local/lib/python3.7/dist-packages (3.0)\n",
            "Looking in indexes: https://pypi.org/simple, https://us-python.pkg.dev/colab-wheels/public/simple/\n",
            "Requirement already satisfied: pip in /usr/local/lib/python3.7/dist-packages (21.1.3)\n",
            "Collecting pip\n",
            "  Downloading pip-22.2.1-py3-none-any.whl (2.0 MB)\n",
            "\u001b[K     |████████████████████████████████| 2.0 MB 5.4 MB/s \n",
            "\u001b[?25hRequirement already satisfied: setuptools in /usr/local/lib/python3.7/dist-packages (57.4.0)\n",
            "Collecting setuptools\n",
            "  Downloading setuptools-63.2.0-py3-none-any.whl (1.2 MB)\n",
            "\u001b[K     |████████████████████████████████| 1.2 MB 52.3 MB/s \n",
            "\u001b[?25hRequirement already satisfied: wheel in /usr/local/lib/python3.7/dist-packages (0.37.1)\n",
            "Installing collected packages: setuptools, pip\n",
            "  Attempting uninstall: setuptools\n",
            "    Found existing installation: setuptools 57.4.0\n",
            "    Uninstalling setuptools-57.4.0:\n",
            "      Successfully uninstalled setuptools-57.4.0\n",
            "  Attempting uninstall: pip\n",
            "    Found existing installation: pip 21.1.3\n",
            "    Uninstalling pip-21.1.3:\n",
            "      Successfully uninstalled pip-21.1.3\n",
            "\u001b[31mERROR: pip's dependency resolver does not currently take into account all the packages that are installed. This behaviour is the source of the following dependency conflicts.\n",
            "datascience 0.10.6 requires folium==0.2.1, but you have folium 0.8.3 which is incompatible.\u001b[0m\n",
            "Successfully installed pip-22.2.1 setuptools-63.2.0\n"
          ]
        },
        {
          "data": {
            "application/vnd.colab-display-data+json": {
              "pip_warning": {
                "packages": [
                  "pkg_resources"
                ]
              }
            }
          },
          "metadata": {},
          "output_type": "display_data"
        },
        {
          "name": "stdout",
          "output_type": "stream",
          "text": [
            "Looking in indexes: https://pypi.org/simple, https://us-python.pkg.dev/colab-wheels/public/simple/\n",
            "Requirement already satisfied: opencv-python in /usr/local/lib/python3.7/dist-packages (4.6.0.66)\n",
            "Requirement already satisfied: numpy>=1.14.5 in /usr/local/lib/python3.7/dist-packages (from opencv-python) (1.21.6)\n",
            "\u001b[33mWARNING: Running pip as the 'root' user can result in broken permissions and conflicting behaviour with the system package manager. It is recommended to use a virtual environment instead: https://pip.pypa.io/warnings/venv\u001b[0m\u001b[33m\n",
            "\u001b[0mLooking in indexes: https://pypi.org/simple, https://us-python.pkg.dev/colab-wheels/public/simple/\n",
            "Requirement already satisfied: pyglet in /usr/local/lib/python3.7/dist-packages (1.5.0)\n",
            "Requirement already satisfied: future in /usr/local/lib/python3.7/dist-packages (from pyglet) (0.16.0)\n",
            "\u001b[33mWARNING: Running pip as the 'root' user can result in broken permissions and conflicting behaviour with the system package manager. It is recommended to use a virtual environment instead: https://pip.pypa.io/warnings/venv\u001b[0m\u001b[33m\n",
            "\u001b[0mLooking in indexes: https://pypi.org/simple, https://us-python.pkg.dev/colab-wheels/public/simple/\n",
            "Collecting ale-py==0.7.4\n",
            "  Downloading ale_py-0.7.4-cp37-cp37m-manylinux_2_17_x86_64.manylinux2014_x86_64.whl (1.6 MB)\n",
            "\u001b[2K     \u001b[90m━━━━━━━━━━━━━━━━━━━━━━━━━━━━━━━━━━━━━━━━\u001b[0m \u001b[32m1.6/1.6 MB\u001b[0m \u001b[31m21.8 MB/s\u001b[0m eta \u001b[36m0:00:00\u001b[0m\n",
            "\u001b[?25hRequirement already satisfied: numpy in /usr/local/lib/python3.7/dist-packages (from ale-py==0.7.4) (1.21.6)\n",
            "Requirement already satisfied: importlib-resources in /usr/local/lib/python3.7/dist-packages (from ale-py==0.7.4) (5.9.0)\n",
            "Requirement already satisfied: importlib-metadata>=4.10.0 in /usr/local/lib/python3.7/dist-packages (from ale-py==0.7.4) (4.12.0)\n",
            "Requirement already satisfied: zipp>=0.5 in /usr/local/lib/python3.7/dist-packages (from importlib-metadata>=4.10.0->ale-py==0.7.4) (3.8.1)\n",
            "Requirement already satisfied: typing-extensions>=3.6.4 in /usr/local/lib/python3.7/dist-packages (from importlib-metadata>=4.10.0->ale-py==0.7.4) (4.1.1)\n",
            "Installing collected packages: ale-py\n",
            "Successfully installed ale-py-0.7.4\n",
            "\u001b[33mWARNING: Running pip as the 'root' user can result in broken permissions and conflicting behaviour with the system package manager. It is recommended to use a virtual environment instead: https://pip.pypa.io/warnings/venv\u001b[0m\u001b[33m\n",
            "\u001b[0m"
          ]
        },
        {
          "data": {
            "application/vnd.colab-display-data+json": {
              "pip_warning": {
                "packages": [
                  "gym"
                ]
              }
            }
          },
          "metadata": {},
          "output_type": "display_data"
        },
        {
          "name": "stdout",
          "output_type": "stream",
          "text": [
            "Looking in indexes: https://pypi.org/simple, https://us-python.pkg.dev/colab-wheels/public/simple/\n",
            "Collecting pickle5\n",
            "  Downloading pickle5-0.0.12-cp37-cp37m-manylinux_2_5_x86_64.manylinux1_x86_64.whl (256 kB)\n",
            "\u001b[2K     \u001b[90m━━━━━━━━━━━━━━━━━━━━━━━━━━━━━━━━━━━━━━━\u001b[0m \u001b[32m256.4/256.4 kB\u001b[0m \u001b[31m6.6 MB/s\u001b[0m eta \u001b[36m0:00:00\u001b[0m\n",
            "\u001b[?25hInstalling collected packages: pickle5\n",
            "Successfully installed pickle5-0.0.12\n",
            "\u001b[33mWARNING: Running pip as the 'root' user can result in broken permissions and conflicting behaviour with the system package manager. It is recommended to use a virtual environment instead: https://pip.pypa.io/warnings/venv\u001b[0m\u001b[33m\n",
            "\u001b[0mLooking in indexes: https://pypi.org/simple, https://us-python.pkg.dev/colab-wheels/public/simple/\n",
            "Requirement already satisfied: colabgymrender==1.0.2 in /usr/local/lib/python3.7/dist-packages (1.0.2)\n",
            "Requirement already satisfied: gym in /usr/local/lib/python3.7/dist-packages (from colabgymrender==1.0.2) (0.17.3)\n",
            "Requirement already satisfied: moviepy in /usr/local/lib/python3.7/dist-packages (from colabgymrender==1.0.2) (0.2.3.5)\n",
            "Requirement already satisfied: pyvirtualdisplay in /usr/local/lib/python3.7/dist-packages (from colabgymrender==1.0.2) (3.0)\n",
            "Requirement already satisfied: opencv-python in /usr/local/lib/python3.7/dist-packages (from colabgymrender==1.0.2) (4.6.0.66)\n",
            "Requirement already satisfied: cloudpickle<1.7.0,>=1.2.0 in /usr/local/lib/python3.7/dist-packages (from gym->colabgymrender==1.0.2) (1.3.0)\n",
            "Requirement already satisfied: pyglet<=1.5.0,>=1.4.0 in /usr/local/lib/python3.7/dist-packages (from gym->colabgymrender==1.0.2) (1.5.0)\n",
            "Requirement already satisfied: numpy>=1.10.4 in /usr/local/lib/python3.7/dist-packages (from gym->colabgymrender==1.0.2) (1.21.6)\n",
            "Requirement already satisfied: scipy in /usr/local/lib/python3.7/dist-packages (from gym->colabgymrender==1.0.2) (1.7.3)\n",
            "Requirement already satisfied: imageio<3.0,>=2.1.2 in /usr/local/lib/python3.7/dist-packages (from moviepy->colabgymrender==1.0.2) (2.4.1)\n",
            "Requirement already satisfied: tqdm<5.0,>=4.11.2 in /usr/local/lib/python3.7/dist-packages (from moviepy->colabgymrender==1.0.2) (4.64.0)\n",
            "Requirement already satisfied: decorator<5.0,>=4.0.2 in /usr/local/lib/python3.7/dist-packages (from moviepy->colabgymrender==1.0.2) (4.4.2)\n",
            "Requirement already satisfied: pillow in /usr/local/lib/python3.7/dist-packages (from imageio<3.0,>=2.1.2->moviepy->colabgymrender==1.0.2) (7.1.2)\n",
            "Requirement already satisfied: future in /usr/local/lib/python3.7/dist-packages (from pyglet<=1.5.0,>=1.4.0->gym->colabgymrender==1.0.2) (0.16.0)\n",
            "\u001b[33mWARNING: Running pip as the 'root' user can result in broken permissions and conflicting behaviour with the system package manager. It is recommended to use a virtual environment instead: https://pip.pypa.io/warnings/venv\u001b[0m\u001b[33m\n",
            "\u001b[0m"
          ]
        }
      ],
      "source": [
        "# install dependencies needed for recording videos\n",
        "!apt install -y xvfb x11-utils --q\n",
        "!sudo apt-get update  --q\n",
        "!apt install python-opengl --q\n",
        "!apt install ffmpeg --q\n",
        "!pip install pyvirtualdisplay --q\n",
        "\n",
        "!pip install --upgrade pip setuptools wheel --q\n",
        "!pip install opencv-python --q\n",
        " \n",
        "!pip install pyglet --q\n",
        "!pip install ale-py==0.7.4 # To overcome an issue with gym (https://github.com/DLR-RM/stable-baselines3/issues/875) --q\n",
        "!pip install pickle5 --q\n",
        "\n",
        "#!pip install gym pyvirtualdisplay > /dev/null 2>&1 -\n",
        "#!apt-get install -y xvfb python-opengl ffmpeg > /dev/null 2>&1\n",
        "!pip install colabgymrender==1.0.2 --q"
      ]
    },
    {
      "cell_type": "code",
      "execution_count": null,
      "metadata": {
        "id": "-i8ZJ_CQL7fa"
      },
      "outputs": [],
      "source": [
        "# Download ROMs\n",
        "!wget http://www.atarimania.com/roms/Roms.rar\n",
        "!unrar x -Y \"/content/Roms.rar\""
      ]
    },
    {
      "cell_type": "code",
      "execution_count": null,
      "metadata": {
        "id": "Bhe8ySYSMTpU",
        "colab": {
          "base_uri": "https://localhost:8080/"
        },
        "outputId": "25b37505-f166-4c10-9865-97c099754c5a"
      },
      "outputs": [
        {
          "output_type": "stream",
          "name": "stdout",
          "text": [
            "Looking in indexes: https://pypi.org/simple, https://us-python.pkg.dev/colab-wheels/public/simple/\n",
            "Requirement already satisfied: gym[atari] in /usr/local/lib/python3.7/dist-packages (0.17.3)\n",
            "Requirement already satisfied: pyglet<=1.5.0,>=1.4.0 in /usr/local/lib/python3.7/dist-packages (from gym[atari]) (1.5.0)\n",
            "Requirement already satisfied: numpy>=1.10.4 in /usr/local/lib/python3.7/dist-packages (from gym[atari]) (1.21.6)\n",
            "Requirement already satisfied: cloudpickle<1.7.0,>=1.2.0 in /usr/local/lib/python3.7/dist-packages (from gym[atari]) (1.3.0)\n",
            "Requirement already satisfied: scipy in /usr/local/lib/python3.7/dist-packages (from gym[atari]) (1.7.3)\n",
            "Requirement already satisfied: opencv-python in /usr/local/lib/python3.7/dist-packages (from gym[atari]) (4.6.0.66)\n",
            "Requirement already satisfied: atari-py~=0.2.0 in /usr/local/lib/python3.7/dist-packages (from gym[atari]) (0.2.9)\n",
            "Requirement already satisfied: Pillow in /usr/local/lib/python3.7/dist-packages (from gym[atari]) (7.1.2)\n",
            "Requirement already satisfied: six in /usr/local/lib/python3.7/dist-packages (from atari-py~=0.2.0->gym[atari]) (1.15.0)\n",
            "Requirement already satisfied: future in /usr/local/lib/python3.7/dist-packages (from pyglet<=1.5.0,>=1.4.0->gym[atari]) (0.16.0)\n"
          ]
        }
      ],
      "source": [
        "!pip install gym[atari]"
      ]
    },
    {
      "cell_type": "code",
      "execution_count": null,
      "metadata": {
        "id": "4invK5_oLfOJ",
        "colab": {
          "base_uri": "https://localhost:8080/"
        },
        "outputId": "7825a78a-aaf8-42f7-baa3-21dbf6261f8a"
      },
      "outputs": [
        {
          "output_type": "stream",
          "name": "stdout",
          "text": [
            "\u001b[?25l\r\u001b[K     |▏                               | 10 kB 17.4 MB/s eta 0:00:01\r\u001b[K     |▍                               | 20 kB 22.4 MB/s eta 0:00:01\r\u001b[K     |▋                               | 30 kB 28.0 MB/s eta 0:00:01\r\u001b[K     |▉                               | 40 kB 20.5 MB/s eta 0:00:01\r\u001b[K     |█                               | 51 kB 8.7 MB/s eta 0:00:01\r\u001b[K     |█▏                              | 61 kB 10.2 MB/s eta 0:00:01\r\u001b[K     |█▍                              | 71 kB 8.6 MB/s eta 0:00:01\r\u001b[K     |█▋                              | 81 kB 9.2 MB/s eta 0:00:01\r\u001b[K     |█▉                              | 92 kB 10.2 MB/s eta 0:00:01\r\u001b[K     |██                              | 102 kB 9.2 MB/s eta 0:00:01\r\u001b[K     |██▏                             | 112 kB 9.2 MB/s eta 0:00:01\r\u001b[K     |██▍                             | 122 kB 9.2 MB/s eta 0:00:01\r\u001b[K     |██▋                             | 133 kB 9.2 MB/s eta 0:00:01\r\u001b[K     |██▉                             | 143 kB 9.2 MB/s eta 0:00:01\r\u001b[K     |███                             | 153 kB 9.2 MB/s eta 0:00:01\r\u001b[K     |███▏                            | 163 kB 9.2 MB/s eta 0:00:01\r\u001b[K     |███▍                            | 174 kB 9.2 MB/s eta 0:00:01\r\u001b[K     |███▋                            | 184 kB 9.2 MB/s eta 0:00:01\r\u001b[K     |███▉                            | 194 kB 9.2 MB/s eta 0:00:01\r\u001b[K     |████                            | 204 kB 9.2 MB/s eta 0:00:01\r\u001b[K     |████▏                           | 215 kB 9.2 MB/s eta 0:00:01\r\u001b[K     |████▍                           | 225 kB 9.2 MB/s eta 0:00:01\r\u001b[K     |████▋                           | 235 kB 9.2 MB/s eta 0:00:01\r\u001b[K     |████▉                           | 245 kB 9.2 MB/s eta 0:00:01\r\u001b[K     |█████                           | 256 kB 9.2 MB/s eta 0:00:01\r\u001b[K     |█████▏                          | 266 kB 9.2 MB/s eta 0:00:01\r\u001b[K     |█████▍                          | 276 kB 9.2 MB/s eta 0:00:01\r\u001b[K     |█████▋                          | 286 kB 9.2 MB/s eta 0:00:01\r\u001b[K     |█████▉                          | 296 kB 9.2 MB/s eta 0:00:01\r\u001b[K     |██████                          | 307 kB 9.2 MB/s eta 0:00:01\r\u001b[K     |██████▏                         | 317 kB 9.2 MB/s eta 0:00:01\r\u001b[K     |██████▍                         | 327 kB 9.2 MB/s eta 0:00:01\r\u001b[K     |██████▋                         | 337 kB 9.2 MB/s eta 0:00:01\r\u001b[K     |██████▉                         | 348 kB 9.2 MB/s eta 0:00:01\r\u001b[K     |███████                         | 358 kB 9.2 MB/s eta 0:00:01\r\u001b[K     |███████▏                        | 368 kB 9.2 MB/s eta 0:00:01\r\u001b[K     |███████▍                        | 378 kB 9.2 MB/s eta 0:00:01\r\u001b[K     |███████▋                        | 389 kB 9.2 MB/s eta 0:00:01\r\u001b[K     |███████▊                        | 399 kB 9.2 MB/s eta 0:00:01\r\u001b[K     |████████                        | 409 kB 9.2 MB/s eta 0:00:01\r\u001b[K     |████████▏                       | 419 kB 9.2 MB/s eta 0:00:01\r\u001b[K     |████████▍                       | 430 kB 9.2 MB/s eta 0:00:01\r\u001b[K     |████████▋                       | 440 kB 9.2 MB/s eta 0:00:01\r\u001b[K     |████████▊                       | 450 kB 9.2 MB/s eta 0:00:01\r\u001b[K     |█████████                       | 460 kB 9.2 MB/s eta 0:00:01\r\u001b[K     |█████████▏                      | 471 kB 9.2 MB/s eta 0:00:01\r\u001b[K     |█████████▍                      | 481 kB 9.2 MB/s eta 0:00:01\r\u001b[K     |█████████▋                      | 491 kB 9.2 MB/s eta 0:00:01\r\u001b[K     |█████████▊                      | 501 kB 9.2 MB/s eta 0:00:01\r\u001b[K     |██████████                      | 512 kB 9.2 MB/s eta 0:00:01\r\u001b[K     |██████████▏                     | 522 kB 9.2 MB/s eta 0:00:01\r\u001b[K     |██████████▍                     | 532 kB 9.2 MB/s eta 0:00:01\r\u001b[K     |██████████▋                     | 542 kB 9.2 MB/s eta 0:00:01\r\u001b[K     |██████████▊                     | 552 kB 9.2 MB/s eta 0:00:01\r\u001b[K     |███████████                     | 563 kB 9.2 MB/s eta 0:00:01\r\u001b[K     |███████████▏                    | 573 kB 9.2 MB/s eta 0:00:01\r\u001b[K     |███████████▍                    | 583 kB 9.2 MB/s eta 0:00:01\r\u001b[K     |███████████▋                    | 593 kB 9.2 MB/s eta 0:00:01\r\u001b[K     |███████████▊                    | 604 kB 9.2 MB/s eta 0:00:01\r\u001b[K     |████████████                    | 614 kB 9.2 MB/s eta 0:00:01\r\u001b[K     |████████████▏                   | 624 kB 9.2 MB/s eta 0:00:01\r\u001b[K     |████████████▍                   | 634 kB 9.2 MB/s eta 0:00:01\r\u001b[K     |████████████▋                   | 645 kB 9.2 MB/s eta 0:00:01\r\u001b[K     |████████████▊                   | 655 kB 9.2 MB/s eta 0:00:01\r\u001b[K     |█████████████                   | 665 kB 9.2 MB/s eta 0:00:01\r\u001b[K     |█████████████▏                  | 675 kB 9.2 MB/s eta 0:00:01\r\u001b[K     |█████████████▍                  | 686 kB 9.2 MB/s eta 0:00:01\r\u001b[K     |█████████████▋                  | 696 kB 9.2 MB/s eta 0:00:01\r\u001b[K     |█████████████▊                  | 706 kB 9.2 MB/s eta 0:00:01\r\u001b[K     |██████████████                  | 716 kB 9.2 MB/s eta 0:00:01\r\u001b[K     |██████████████▏                 | 727 kB 9.2 MB/s eta 0:00:01\r\u001b[K     |██████████████▍                 | 737 kB 9.2 MB/s eta 0:00:01\r\u001b[K     |██████████████▋                 | 747 kB 9.2 MB/s eta 0:00:01\r\u001b[K     |██████████████▊                 | 757 kB 9.2 MB/s eta 0:00:01\r\u001b[K     |███████████████                 | 768 kB 9.2 MB/s eta 0:00:01\r\u001b[K     |███████████████▏                | 778 kB 9.2 MB/s eta 0:00:01\r\u001b[K     |███████████████▍                | 788 kB 9.2 MB/s eta 0:00:01\r\u001b[K     |███████████████▌                | 798 kB 9.2 MB/s eta 0:00:01\r\u001b[K     |███████████████▊                | 808 kB 9.2 MB/s eta 0:00:01\r\u001b[K     |████████████████                | 819 kB 9.2 MB/s eta 0:00:01\r\u001b[K     |████████████████▏               | 829 kB 9.2 MB/s eta 0:00:01\r\u001b[K     |████████████████▍               | 839 kB 9.2 MB/s eta 0:00:01\r\u001b[K     |████████████████▌               | 849 kB 9.2 MB/s eta 0:00:01\r\u001b[K     |████████████████▊               | 860 kB 9.2 MB/s eta 0:00:01\r\u001b[K     |█████████████████               | 870 kB 9.2 MB/s eta 0:00:01\r\u001b[K     |█████████████████▏              | 880 kB 9.2 MB/s eta 0:00:01\r\u001b[K     |█████████████████▍              | 890 kB 9.2 MB/s eta 0:00:01\r\u001b[K     |█████████████████▌              | 901 kB 9.2 MB/s eta 0:00:01\r\u001b[K     |█████████████████▊              | 911 kB 9.2 MB/s eta 0:00:01\r\u001b[K     |██████████████████              | 921 kB 9.2 MB/s eta 0:00:01\r\u001b[K     |██████████████████▏             | 931 kB 9.2 MB/s eta 0:00:01\r\u001b[K     |██████████████████▍             | 942 kB 9.2 MB/s eta 0:00:01\r\u001b[K     |██████████████████▌             | 952 kB 9.2 MB/s eta 0:00:01\r\u001b[K     |██████████████████▊             | 962 kB 9.2 MB/s eta 0:00:01\r\u001b[K     |███████████████████             | 972 kB 9.2 MB/s eta 0:00:01\r\u001b[K     |███████████████████▏            | 983 kB 9.2 MB/s eta 0:00:01\r\u001b[K     |███████████████████▍            | 993 kB 9.2 MB/s eta 0:00:01\r\u001b[K     |███████████████████▌            | 1.0 MB 9.2 MB/s eta 0:00:01\r\u001b[K     |███████████████████▊            | 1.0 MB 9.2 MB/s eta 0:00:01\r\u001b[K     |████████████████████            | 1.0 MB 9.2 MB/s eta 0:00:01\r\u001b[K     |████████████████████▏           | 1.0 MB 9.2 MB/s eta 0:00:01\r\u001b[K     |████████████████████▍           | 1.0 MB 9.2 MB/s eta 0:00:01\r\u001b[K     |████████████████████▌           | 1.1 MB 9.2 MB/s eta 0:00:01\r\u001b[K     |████████████████████▊           | 1.1 MB 9.2 MB/s eta 0:00:01\r\u001b[K     |█████████████████████           | 1.1 MB 9.2 MB/s eta 0:00:01\r\u001b[K     |█████████████████████▏          | 1.1 MB 9.2 MB/s eta 0:00:01\r\u001b[K     |█████████████████████▍          | 1.1 MB 9.2 MB/s eta 0:00:01\r\u001b[K     |█████████████████████▌          | 1.1 MB 9.2 MB/s eta 0:00:01\r\u001b[K     |█████████████████████▊          | 1.1 MB 9.2 MB/s eta 0:00:01\r\u001b[K     |██████████████████████          | 1.1 MB 9.2 MB/s eta 0:00:01\r\u001b[K     |██████████████████████▏         | 1.1 MB 9.2 MB/s eta 0:00:01\r\u001b[K     |██████████████████████▍         | 1.1 MB 9.2 MB/s eta 0:00:01\r\u001b[K     |██████████████████████▌         | 1.2 MB 9.2 MB/s eta 0:00:01\r\u001b[K     |██████████████████████▊         | 1.2 MB 9.2 MB/s eta 0:00:01\r\u001b[K     |███████████████████████         | 1.2 MB 9.2 MB/s eta 0:00:01\r\u001b[K     |███████████████████████▏        | 1.2 MB 9.2 MB/s eta 0:00:01\r\u001b[K     |███████████████████████▎        | 1.2 MB 9.2 MB/s eta 0:00:01\r\u001b[K     |███████████████████████▌        | 1.2 MB 9.2 MB/s eta 0:00:01\r\u001b[K     |███████████████████████▊        | 1.2 MB 9.2 MB/s eta 0:00:01\r\u001b[K     |████████████████████████        | 1.2 MB 9.2 MB/s eta 0:00:01\r\u001b[K     |████████████████████████▏       | 1.2 MB 9.2 MB/s eta 0:00:01\r\u001b[K     |████████████████████████▎       | 1.2 MB 9.2 MB/s eta 0:00:01\r\u001b[K     |████████████████████████▌       | 1.3 MB 9.2 MB/s eta 0:00:01\r\u001b[K     |████████████████████████▊       | 1.3 MB 9.2 MB/s eta 0:00:01\r\u001b[K     |█████████████████████████       | 1.3 MB 9.2 MB/s eta 0:00:01\r\u001b[K     |█████████████████████████▏      | 1.3 MB 9.2 MB/s eta 0:00:01\r\u001b[K     |█████████████████████████▎      | 1.3 MB 9.2 MB/s eta 0:00:01\r\u001b[K     |█████████████████████████▌      | 1.3 MB 9.2 MB/s eta 0:00:01\r\u001b[K     |█████████████████████████▊      | 1.3 MB 9.2 MB/s eta 0:00:01\r\u001b[K     |██████████████████████████      | 1.3 MB 9.2 MB/s eta 0:00:01\r\u001b[K     |██████████████████████████▏     | 1.3 MB 9.2 MB/s eta 0:00:01\r\u001b[K     |██████████████████████████▎     | 1.4 MB 9.2 MB/s eta 0:00:01\r\u001b[K     |██████████████████████████▌     | 1.4 MB 9.2 MB/s eta 0:00:01\r\u001b[K     |██████████████████████████▊     | 1.4 MB 9.2 MB/s eta 0:00:01\r\u001b[K     |███████████████████████████     | 1.4 MB 9.2 MB/s eta 0:00:01\r\u001b[K     |███████████████████████████▏    | 1.4 MB 9.2 MB/s eta 0:00:01\r\u001b[K     |███████████████████████████▎    | 1.4 MB 9.2 MB/s eta 0:00:01\r\u001b[K     |███████████████████████████▌    | 1.4 MB 9.2 MB/s eta 0:00:01\r\u001b[K     |███████████████████████████▊    | 1.4 MB 9.2 MB/s eta 0:00:01\r\u001b[K     |████████████████████████████    | 1.4 MB 9.2 MB/s eta 0:00:01\r\u001b[K     |████████████████████████████▏   | 1.4 MB 9.2 MB/s eta 0:00:01\r\u001b[K     |████████████████████████████▎   | 1.5 MB 9.2 MB/s eta 0:00:01\r\u001b[K     |████████████████████████████▌   | 1.5 MB 9.2 MB/s eta 0:00:01\r\u001b[K     |████████████████████████████▊   | 1.5 MB 9.2 MB/s eta 0:00:01\r\u001b[K     |█████████████████████████████   | 1.5 MB 9.2 MB/s eta 0:00:01\r\u001b[K     |█████████████████████████████▏  | 1.5 MB 9.2 MB/s eta 0:00:01\r\u001b[K     |█████████████████████████████▎  | 1.5 MB 9.2 MB/s eta 0:00:01\r\u001b[K     |█████████████████████████████▌  | 1.5 MB 9.2 MB/s eta 0:00:01\r\u001b[K     |█████████████████████████████▊  | 1.5 MB 9.2 MB/s eta 0:00:01\r\u001b[K     |██████████████████████████████  | 1.5 MB 9.2 MB/s eta 0:00:01\r\u001b[K     |██████████████████████████████▏ | 1.5 MB 9.2 MB/s eta 0:00:01\r\u001b[K     |██████████████████████████████▎ | 1.6 MB 9.2 MB/s eta 0:00:01\r\u001b[K     |██████████████████████████████▌ | 1.6 MB 9.2 MB/s eta 0:00:01\r\u001b[K     |██████████████████████████████▊ | 1.6 MB 9.2 MB/s eta 0:00:01\r\u001b[K     |███████████████████████████████ | 1.6 MB 9.2 MB/s eta 0:00:01\r\u001b[K     |███████████████████████████████ | 1.6 MB 9.2 MB/s eta 0:00:01\r\u001b[K     |███████████████████████████████▎| 1.6 MB 9.2 MB/s eta 0:00:01\r\u001b[K     |███████████████████████████████▌| 1.6 MB 9.2 MB/s eta 0:00:01\r\u001b[K     |███████████████████████████████▊| 1.6 MB 9.2 MB/s eta 0:00:01\r\u001b[K     |████████████████████████████████| 1.6 MB 9.2 MB/s eta 0:00:01\r\u001b[K     |████████████████████████████████| 1.6 MB 9.2 MB/s \n",
            "\u001b[?25h"
          ]
        }
      ],
      "source": [
        "!pip install ale-py --q"
      ]
    },
    {
      "cell_type": "code",
      "execution_count": null,
      "metadata": {
        "id": "zgbyqTD_LjfQ"
      },
      "outputs": [],
      "source": [
        "from ale_py import ALEInterface\n",
        "\n",
        "ale = ALEInterface()"
      ]
    },
    {
      "cell_type": "code",
      "execution_count": null,
      "metadata": {
        "id": "2t2MCHlAMBVJ"
      },
      "outputs": [],
      "source": [
        "# import atari_py==0.2.6\n",
        "# Import ROMs into gym using Arcade Learning Environment (ALE)\n",
        "!ale-import-roms /content/ROMS/"
      ]
    },
    {
      "cell_type": "code",
      "execution_count": null,
      "metadata": {
        "colab": {
          "base_uri": "https://localhost:8080/"
        },
        "id": "1emL6FnydaOY",
        "outputId": "b6d9d5f2-618d-47ef-da85-ccdf8980b806"
      },
      "outputs": [
        {
          "name": "stdout",
          "output_type": "stream",
          "text": [
            "/bin/bash: ale-import-roms: command not found\n"
          ]
        }
      ],
      "source": [
        "!ale-import-roms --q"
      ]
    },
    {
      "cell_type": "code",
      "execution_count": null,
      "metadata": {
        "colab": {
          "base_uri": "https://localhost:8080/"
        },
        "id": "3_ZwjkCviekq",
        "outputId": "5c0fa073-0716-4f79-c907-0f3077849e44"
      },
      "outputs": [
        {
          "name": "stdout",
          "output_type": "stream",
          "text": [
            "  Building wheel for colabgymrender (setup.py) ... \u001b[?25l\u001b[?25hdone\n"
          ]
        }
      ],
      "source": [
        "# !pip install gym pyvirtualdisplay > /dev/null 2>&1\n",
        "# !pip install colabgymrender==1.0.2 --q"
      ]
    },
    {
      "cell_type": "markdown",
      "metadata": {
        "id": "gZsLJWZGBLLV"
      },
      "source": [
        "\n",
        "**Importing Libraries**"
      ]
    },
    {
      "cell_type": "code",
      "execution_count": null,
      "metadata": {
        "id": "stfD-p8Ida0J"
      },
      "outputs": [],
      "source": [
        "# LA libraries \n",
        "import numpy as np\n",
        "\n",
        "# imports for the enviroment \n",
        "import gym\n",
        "# from ale_py import ALEInterface\n",
        "# ale = ALEInterface()\n",
        "\n",
        "# for the Algorithms impl.\n",
        "import tensorflow as tf\n",
        "from tensorflow import keras\n",
        "from tensorflow.keras.models import Sequential\n",
        "from tensorflow.keras.layers import Dense, Activation\n",
        "from tensorflow.keras.optimizers import Adam\n",
        "from tensorflow.keras.metrics import mean_squared_error\n",
        "from keras.callbacks import TensorBoard\n",
        "\n",
        "\n",
        "\n",
        "# for Visulaization and Video Capturing \n",
        "from matplotlib import pyplot as plt\n",
        "from base64 import b64encode\n",
        "from gym.wrappers.monitoring.video_recorder import VideoRecorder\n",
        "# start an instance of the virtual display\n",
        "from pyvirtualdisplay import Display\n",
        "display = Display(visible=False, size=(1400, 900))\n",
        "_ = display.start()\n",
        "\n",
        "from IPython.display import clear_output\n",
        "from time import sleep\n",
        "# Virtual display\n",
        "from pyvirtualdisplay import Display\n",
        "\n",
        "# virtual_display = Display(visible=0, size=(1400, 900))\n",
        "# virtual_display.start()"
      ]
    },
    {
      "cell_type": "code",
      "execution_count": null,
      "metadata": {
        "id": "YU0LxEXMSund"
      },
      "outputs": [],
      "source": [
        "import random\n",
        "import gym\n",
        "import numpy as np\n",
        "from collections import deque\n",
        "from keras.models import Sequential\n",
        "from keras.layers import Dense, Activation, Flatten, Conv2D, MaxPooling2D\n",
        "# from keras.optimizers import RMSprop\n",
        "from tensorflow.keras.optimizers import RMSprop\n"
      ]
    },
    {
      "cell_type": "markdown",
      "metadata": {
        "collapsed": true,
        "id": "wXDlF6cdHJTj"
      },
      "source": [
        "the next two function is for prepration only we define a preprocessing function for our input game screens. We crop the image size convert the image into greyscale 1D tensor\n",
        "\n"
      ]
    },
    {
      "cell_type": "markdown",
      "metadata": {
        "id": "1AXmFOc0Sunj"
      },
      "source": [
        "# Preprocessing for each screen before sending it to the model "
      ]
    },
    {
      "cell_type": "code",
      "execution_count": null,
      "metadata": {
        "collapsed": true,
        "id": "8yupYmbiSunj"
      },
      "outputs": [],
      "source": [
        "# Helpful preprocessing taken from github.com/ageron/tiny-dqn\n",
        "def process_frame(frame):\n",
        "\n",
        "    mspacman_color = np.array([210, 164, 74]).mean()\n",
        "    img = frame[1:176:2, ::2]    # Crop and downsize\n",
        "    img = img.mean(axis=2)       # Convert to greyscale\n",
        "    img[img==mspacman_color] = 0 # Improve contrast by making pacman white\n",
        "    img = (img - 128) / 128 - 1  # Normalize from -1 to 1.\n",
        "    \n",
        "    return np.expand_dims(img.reshape(88, 80, 1), axis=0)"
      ]
    },
    {
      "cell_type": "code",
      "execution_count": null,
      "metadata": {
        "collapsed": true,
        "id": "wYBaz-G0Sunj"
      },
      "outputs": [],
      "source": [
        "# Averages images from the last few frame\n",
        "def  blend_images (images, blend):\n",
        "    avg_image = np.expand_dims(np.zeros((88, 80, 1), np.float64), axis=0)\n",
        "\n",
        "    for image in images:\n",
        "        avg_image += image\n",
        "        \n",
        "    if len(images) < blend:\n",
        "        return avg_image / len(images)\n",
        "    else:\n",
        "        return avg_image / blend"
      ]
    },
    {
      "cell_type": "code",
      "source": [
        ""
      ],
      "metadata": {
        "id": "a8Uw8zU1AUuJ"
      },
      "execution_count": null,
      "outputs": []
    },
    {
      "cell_type": "markdown",
      "source": [
        "# Visualizaing the enviroment "
      ],
      "metadata": {
        "id": "OSKhgeKJAVd5"
      }
    },
    {
      "cell_type": "code",
      "metadata": {
        "id": "jnbrjWstHJTu",
        "outputId": "a3db2449-aee4-4619-ac8c-a1acbd4174d4",
        "colab": {
          "base_uri": "https://localhost:8080/",
          "height": 338
        }
      },
      "source": [
        "env = gym.make(\"MsPacman-v0\")\n",
        "n_outputs = env.action_space.n\n",
        "print(n_outputs)\n",
        "print(env.env.get_action_meanings())\n",
        "\n",
        "observation = env.reset()\n",
        "\n",
        "import tensorflow as tf\n",
        "import matplotlib.pyplot as plt\n",
        "\n",
        "\n",
        "for i in range(22):\n",
        "  \n",
        "  if i > 20:\n",
        "    plt.imshow(observation)\n",
        "    plt.show()\n",
        "\n",
        "  observation, _, _, _ = env.step(1)\n",
        "  "
      ],
      "execution_count": null,
      "outputs": [
        {
          "output_type": "stream",
          "name": "stderr",
          "text": [
            "/usr/local/lib/python3.7/dist-packages/gym/logger.py:30: UserWarning: \u001b[33mWARN: obs_type \"image\" should be replaced with the image type, one of: rgb, grayscale\u001b[0m\n",
            "  warnings.warn(colorize('%s: %s'%('WARN', msg % args), 'yellow'))\n"
          ]
        },
        {
          "output_type": "stream",
          "name": "stdout",
          "text": [
            "9\n",
            "['NOOP', 'UP', 'RIGHT', 'LEFT', 'DOWN', 'UPRIGHT', 'UPLEFT', 'DOWNRIGHT', 'DOWNLEFT']\n"
          ]
        },
        {
          "output_type": "display_data",
          "data": {
            "text/plain": [
              "<Figure size 432x288 with 1 Axes>"
            ],
            "image/png": "[encoded data removed]"
          },
          "metadata": {
            "needs_background": "light"
          }
        }
      ]
    },
    {
      "cell_type": "code",
      "metadata": {
        "id": "_Ma31y4wFpst",
        "outputId": "e2657fd9-7fcf-4ec3-b7af-39059f145e98",
        "colab": {
          "base_uri": "https://localhost:8080/",
          "height": 303
        }
      },
      "source": [
        "#Take a look at the preprocessed inputs in greyscale\n",
        "#Let's compare the original and preprocessed tensors.\n",
        "\n",
        "obs_preprocessed = process_frame(observation).reshape(88,80)\n",
        "plt.imshow(obs_preprocessed)\n",
        "plt.show()\n",
        "print(observation.shape)\n",
        "print(obs_preprocessed.shape)"
      ],
      "execution_count": null,
      "outputs": [
        {
          "output_type": "display_data",
          "data": {
            "text/plain": [
              "<Figure size 432x288 with 1 Axes>"
            ],
            "image/png": "[encoded data removed]"
          },
          "metadata": {
            "needs_background": "light"
          }
        },
        {
          "output_type": "stream",
          "name": "stdout",
          "text": [
            "(210, 160, 3)\n",
            "(88, 80)\n"
          ]
        }
      ]
    },
    {
      "cell_type": "code",
      "execution_count": null,
      "metadata": {
        "colab": {
          "base_uri": "https://localhost:8080/"
        },
        "id": "ZUDMw34O4kg2",
        "outputId": "5afe6276-19b4-4311-fee5-dc2e3d8b6c0b"
      },
      "outputs": [
        {
          "output_type": "stream",
          "name": "stdout",
          "text": [
            "The observation space: Box(0, 255, (210, 160, 3), uint8)\n",
            "The action space: Discrete(9)\n"
          ]
        }
      ],
      "source": [
        "# Observation and action space \n",
        "obs_space = env.observation_space\n",
        "action_space = env.action_space\n",
        "print(f\"The observation space: {obs_space}\")\n",
        "print(f\"The action space: {action_space}\")"
      ]
    },
    {
      "cell_type": "code",
      "execution_count": null,
      "metadata": {
        "colab": {
          "base_uri": "https://localhost:8080/"
        },
        "id": "rBjI_jhU6bcr",
        "outputId": "b68c993e-7fb9-4038-9e2d-bc74122fc0e3"
      },
      "outputs": [
        {
          "output_type": "execute_result",
          "data": {
            "text/plain": [
              "gym.spaces.discrete.Discrete"
            ]
          },
          "metadata": {},
          "execution_count": 42
        }
      ],
      "source": [
        "type(action_space)"
      ]
    }
  ],
  "metadata": {
    "kernelspec": {
      "display_name": "Python 2",
      "language": "python",
      "name": "python2"
    },
    "language_info": {
      "codemirror_mode": {
        "name": "ipython",
        "version": 2
      },
      "file_extension": ".py",
      "mimetype": "text/x-python",
      "name": "python",
      "nbconvert_exporter": "python",
      "pygments_lexer": "ipython2",
      "version": "2.7.14"
    },
    "colab": {
      "name": "01_Deep_Q_Learning_Implementation_From_Scratch_with_several trialsV1.ipynb",
      "provenance": [],
      "collapsed_sections": [
        "swM-WHWMJVs1",
        "iiuKaFl5Nl3h",
        "5oImu2wbSc7A"
      ],
      "toc_visible": true,
      "include_colab_link": true
    }
  },
  "nbformat": 4,
  "nbformat_minor": 0
}